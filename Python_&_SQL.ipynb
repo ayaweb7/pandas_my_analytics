{
 "cells": [
  {
   "cell_type": "code",
   "execution_count": null,
   "metadata": {},
   "outputs": [],
   "source": [
    "# Как подружить Python и базы данных SQL. Подробное руководство\n",
    "# https://proglib.io/p/kak-podruzhit-python-i-bazy-dannyh-sql-podrobnoe-rukovodstvo-2020-02-27"
   ]
  },
  {
   "cell_type": "code",
   "execution_count": null,
   "metadata": {},
   "outputs": [],
   "source": [
    "# 2. Подключение к базам данных"
   ]
  },
  {
   "cell_type": "code",
   "execution_count": null,
   "metadata": {},
   "outputs": [],
   "source": [
    "# mySQL\n",
    "\n",
    "# В отличие от SQLite, в Python по умолчанию нет модуля, который можно использовать для подключения к базе данных MySQL.\n",
    "# Для этого вам нужно установить драйвер Python для MySQL. Одним из таких драйверов является mysql-connector-python.\n",
    "# Вы можете скачать этот модуль Python SQL с помощью pip:\n",
    "        \n",
    "# pip install mysql-connector-python"
   ]
  },
  {
   "cell_type": "code",
   "execution_count": null,
   "metadata": {},
   "outputs": [],
   "source": [
    "# Обратите внимание, что MySQL – это серверная система управления базами данных.\n",
    "# Один сервер MySQL может хранить несколько баз данных.\n",
    "# В отличие от SQLite, где соединение равносильно порождению БД, формирование базы данных MySQL состоит из двух этапов:\n",
    "\n",
    "# Установка соединения с сервером MySQL.\n",
    "# Выполнение запроса для создания БД.\n",
    "# Определим функцию, которая будет подключаться к серверу MySQL и возвращать объект подключения:"
   ]
  },
  {
   "cell_type": "code",
   "execution_count": null,
   "metadata": {},
   "outputs": [],
   "source": [
    "import mysql.connector\n",
    "from mysql.connector import Error\n",
    "\n",
    "def create_connection(host_name, user_name, user_password):\n",
    "    connection = None\n",
    "    try:\n",
    "        connection = mysql.connector.connect(\n",
    "            host=host_name,\n",
    "            user=user_name,\n",
    "            passwd=user_password\n",
    "        )\n",
    "        print(\"Connection to MySQL DB successful\")\n",
    "    except Error as e:\n",
    "        print(f\"The error '{e}' occurred\")\n",
    "\n",
    "    return connection\n",
    "\n",
    "connection = create_connection(\"localhost\", \"root\", \"\")"
   ]
  },
  {
   "cell_type": "code",
   "execution_count": null,
   "metadata": {},
   "outputs": [],
   "source": [
    "# В приведенном выше коде мы определили новую функцию create_connection(), которая принимает три параметра:\n",
    "\n",
    "# host_name\n",
    "# user_name\n",
    "# user_password\n",
    "\n",
    "# Модуль mysql.connector определяет метод connect(), используемый в седьмой строке для подключения к серверу MySQL.\n",
    "# Как только соединение установлено, объект connection возвращается вызывающей функции.\n",
    "# В последней строке функция create_connection() вызывается с именем хоста, именем пользователя и паролем.\n",
    "\n",
    "# Пока мы только установили соединение. Самой базы ещё нет.\n",
    "# Для этого мы определим другую функцию – create_database(), которая принимает два параметра:\n",
    "\n",
    "# Объект connection;\n",
    "# query – строковый запрос о создании базу данных.\n",
    "# Вот как выглядит эта функция:"
   ]
  },
  {
   "cell_type": "code",
   "execution_count": null,
   "metadata": {},
   "outputs": [],
   "source": [
    "def create_database(connection, query):\n",
    "    cursor = connection.cursor()\n",
    "    try:\n",
    "        cursor.execute(query)\n",
    "        print(\"Database created successfully\")\n",
    "    except Error as e:\n",
    "        print(f\"The error '{e}' occurred\")"
   ]
  },
  {
   "cell_type": "code",
   "execution_count": null,
   "metadata": {},
   "outputs": [],
   "source": [
    "# Для выполнения запросов используется объект cursor.\n",
    "# Создадим базу данных sm_appдля нашего приложения на сервере MySQL:\n",
    "        \n",
    "create_database_query = \"CREATE DATABASE sm_app\"\n",
    "create_database(connection, create_database_query)"
   ]
  },
  {
   "cell_type": "code",
   "execution_count": null,
   "metadata": {},
   "outputs": [],
   "source": [
    "# Теперь у нас есть база данных на сервере. Однако объект connection,\n",
    "# возвращаемый функцией create_connection() подключен к серверу MySQL.\n",
    "# А нам необходимо подключиться к базе данных sm_app.\n",
    "# Для этого нужно изменить create_connection() следующим образом:"
   ]
  },
  {
   "cell_type": "code",
   "execution_count": null,
   "metadata": {},
   "outputs": [],
   "source": [
    "def create_connection(host_name, user_name, user_password, db_name):\n",
    "    connection = None\n",
    "    try:\n",
    "        connection = mysql.connector.connect(\n",
    "            host=host_name,\n",
    "            user=user_name,\n",
    "            passwd=user_password,\n",
    "            database=db_name\n",
    "        )\n",
    "        print(\"Connection to MySQL DB successful\")\n",
    "    except Error as e:\n",
    "        print(f\"The error '{e}' occurred\")\n",
    "\n",
    "    return connection"
   ]
  },
  {
   "cell_type": "code",
   "execution_count": null,
   "metadata": {},
   "outputs": [],
   "source": [
    "# Функция create_connection() теперь принимает дополнительный параметр с именем db_name.\n",
    "# Этот параметр указывает имя БД, к которой мы хотим подключиться. Имя теперь можно передать при вызове функции:\n",
    "        \n",
    "connection = create_connection(\"localhost\", \"root\", \"\", \"sm_app\")\n",
    "\n",
    "# Скрипт успешно вызывает create_connection() и подключается к базе данных sm_app."
   ]
  },
  {
   "cell_type": "code",
   "execution_count": null,
   "metadata": {},
   "outputs": [],
   "source": []
  },
  {
   "cell_type": "code",
   "execution_count": null,
   "metadata": {},
   "outputs": [],
   "source": [
    "# 3. Создание таблиц\n",
    "# В предыдущем разделе мы увидели, как подключаться к серверам баз данных SQLite, MySQL и PostgreSQL, \n",
    "# используя разные библиотеки Python. Мы создали базу данных sm_app на всех трех серверах БД.\n",
    "# В данном разделе мы рассмотрим, как формировать таблицы внутри этих трех баз данных.\n",
    "\n",
    "# Как обсуждалось ранее, нам нужно получить и связать четыре таблицы:\n",
    "\n",
    "# users\n",
    "# posts\n",
    "# comments\n",
    "# likes"
   ]
  },
  {
   "cell_type": "code",
   "execution_count": null,
   "metadata": {},
   "outputs": [],
   "source": [
    "# MySQL\n",
    "# Так же, как с SQLite, чтобы создать таблицу в MySQL, нужно передать запрос в cursor.execute().\n",
    "# Создадим новый вариант функции execute_query():"
   ]
  },
  {
   "cell_type": "code",
   "execution_count": null,
   "metadata": {},
   "outputs": [],
   "source": [
    "def execute_query(connection, query):\n",
    "     cursor = connection.cursor()\n",
    "     try:\n",
    "         cursor.execute(query)\n",
    "         connection.commit()\n",
    "         print(\"Query executed successfully\")\n",
    "     except Error as e:\n",
    "         print(f\"The error '{e}' occurred\")"
   ]
  },
  {
   "cell_type": "code",
   "execution_count": null,
   "metadata": {},
   "outputs": [],
   "source": [
    "# Описываем таблицу users:\n",
    "\n",
    "        \n",
    "create_users_table = \"\"\"\n",
    "CREATE TABLE IF NOT EXISTS users (\n",
    "  id INT AUTO_INCREMENT, \n",
    "  name TEXT NOT NULL, \n",
    "  age INT, \n",
    "  gender TEXT, \n",
    "  nationality TEXT, \n",
    "  PRIMARY KEY (id)\n",
    ") ENGINE = InnoDB\n",
    "\"\"\"\n",
    "\n",
    "execute_query(connection, create_users_table)"
   ]
  },
  {
   "cell_type": "code",
   "execution_count": null,
   "metadata": {},
   "outputs": [],
   "source": [
    "# Запрос для реализации отношения внешнего ключа в MySQL немного отличается от SQLite.\n",
    "# Более того, MySQL использует ключевое слово AUTO_INCREMENT для указания столбцов,\n",
    "# значения которых автоматически увеличиваются при вставке новых записей.\n",
    "\n",
    "# Следующий скрипт составит таблицу posts, содержащую внешний ключ user_id, который ссылается на id столбца таблицы users:"
   ]
  },
  {
   "cell_type": "code",
   "execution_count": null,
   "metadata": {},
   "outputs": [],
   "source": [
    "create_posts_table = \"\"\"\n",
    "CREATE TABLE IF NOT EXISTS posts (\n",
    "  id INT AUTO_INCREMENT, \n",
    "  title TEXT NOT NULL, \n",
    "  description TEXT NOT NULL, \n",
    "  user_id INTEGER NOT NULL, \n",
    "  FOREIGN KEY fk_user_id (user_id) REFERENCES users(id), \n",
    "  PRIMARY KEY (id)\n",
    ") ENGINE = InnoDB\n",
    "\"\"\"\n",
    "\n",
    "execute_query(connection, create_posts_table)"
   ]
  },
  {
   "cell_type": "code",
   "execution_count": null,
   "metadata": {},
   "outputs": [],
   "source": [
    "# Аналогично для создания таблиц comments и likes, передаём соответствующие CREATE-запросы функции execute_query()."
   ]
  },
  {
   "cell_type": "code",
   "execution_count": null,
   "metadata": {},
   "outputs": [],
   "source": []
  },
  {
   "cell_type": "code",
   "execution_count": null,
   "metadata": {},
   "outputs": [],
   "source": [
    "# 4. Вставка записей\n",
    "# В предыдущем разделе мы разобрали, как развертывать таблицы в базах данных SQLite, MySQL и PostgreSQL\n",
    "# с использованием различных модулей Python. В этом разделе узнаем, как вставлять записи."
   ]
  },
  {
   "cell_type": "code",
   "execution_count": null,
   "metadata": {},
   "outputs": [],
   "source": [
    "# MySQL\n",
    "# Есть два способа вставить записи в базы данных MySQL из приложения Python. Первый подход похож на SQLite.\n",
    "# Можно сохранить запрос INSERT INTO в строке, а затем использовать для вставки записей cursor.execute().\n",
    "\n",
    "# Ранее мы определили функцию-оболочку execute_query(), которую использовали для вставки записей.\n",
    "# Мы можем использовать ту же функцию:"
   ]
  },
  {
   "cell_type": "code",
   "execution_count": null,
   "metadata": {},
   "outputs": [],
   "source": [
    "create_users = \"\"\"\n",
    "INSERT INTO\n",
    "  `users` (`name`, `age`, `gender`, `nationality`)\n",
    "VALUES\n",
    "  ('James', 25, 'male', 'USA'),\n",
    "  ('Leila', 32, 'female', 'France'),\n",
    "  ('Brigitte', 35, 'female', 'England'),\n",
    "  ('Mike', 40, 'male', 'Denmark'),\n",
    "  ('Elizabeth', 21, 'female', 'Canada');\n",
    "\"\"\"\n",
    "\n",
    "execute_query(connection, create_users)  "
   ]
  },
  {
   "cell_type": "code",
   "execution_count": null,
   "metadata": {},
   "outputs": [],
   "source": [
    "# Второй подход использует метод cursor.executemany(), который принимает два параметра:\n",
    "\n",
    "# Строка query, содержащая заполнители для вставляемых записей.\n",
    "# Список записей, которые мы хотим вставить.\n",
    "# Посмотрите на следующий пример, который вставляет две записи в таблицу likes:"
   ]
  },
  {
   "cell_type": "code",
   "execution_count": null,
   "metadata": {},
   "outputs": [],
   "source": [
    "sql = \"INSERT INTO likes ( user_id, post_id ) VALUES ( %s, %s )\"\n",
    "val = [(4, 5), (3, 4)]\n",
    "\n",
    "cursor = connection.cursor()\n",
    "cursor.executemany(sql, val)\n",
    "connection.commit()\n",
    "\n",
    "    \n",
    "# Какой подход выбрать – зависит от вас. Если вы не очень хорошо знакомы с SQL, проще использовать метод курсора executemany()."
   ]
  },
  {
   "cell_type": "code",
   "execution_count": null,
   "metadata": {},
   "outputs": [],
   "source": []
  },
  {
   "cell_type": "code",
   "execution_count": null,
   "metadata": {},
   "outputs": [],
   "source": [
    "# 5. Извлечение данных из записей"
   ]
  },
  {
   "cell_type": "code",
   "execution_count": null,
   "metadata": {},
   "outputs": [],
   "source": [
    "# SQLite\n",
    "# Чтобы выбрать записи в SQLite, можно снова использовать cursor.execute().\n",
    "# Однако после этого потребуется вызвать метод курсора fetchall().\n",
    "# Этот метод возвращает список кортежей, где каждый кортеж сопоставлен с соответствующей строкой в ​​извлеченных записях.\n",
    "# Чтобы упростить процесс, напишем функцию execute_read_query():\n",
    "\n",
    "        \n",
    "def execute_read_query(connection, query):\n",
    "    cursor = connection.cursor()\n",
    "    result = None\n",
    "    try:\n",
    "        cursor.execute(query)\n",
    "        result = cursor.fetchall()\n",
    "        return result\n",
    "    except Error as e:\n",
    "        print(f\"The error '{e}' occurred\")\n",
    "        \n",
    "# Эта функция принимает объект connection и SELECT-запрос, а возвращает выбранную запись."
   ]
  },
  {
   "cell_type": "code",
   "execution_count": null,
   "metadata": {},
   "outputs": [],
   "source": [
    "# SELECT\n",
    "# Давайте выберем все записи из таблицы users:\n",
    "\n",
    "        \n",
    "select_users = \"SELECT * from users\"\n",
    "users = execute_read_query(connection, select_users)\n",
    "\n",
    "for user in users:\n",
    "    print(user)"
   ]
  },
  {
   "cell_type": "code",
   "execution_count": null,
   "metadata": {},
   "outputs": [],
   "source": [
    "# В приведенном выше скрипте запрос SELECT забирает всех пользователей из таблицы users.\n",
    "# Результат передается в написанную нами функцию execute_read_query(), возвращающую все записи из таблицы users.\n",
    "\n",
    "# Примечание. Не рекомендуется использовать SELECT * для больших таблиц,\n",
    "# так как это может привести к большому числу операций ввода-вывода, которые увеличивают сетевой трафик.\n",
    "\n",
    "# Результат вышеприведенного запроса выглядит следующим образом:\n",
    "\n",
    "        \n",
    "# (1, 'James', 25, 'male', 'USA')\n",
    "# (2, 'Leila', 32, 'female', 'France')\n",
    "# (3, 'Brigitte', 35, 'female', 'England')\n",
    "# (4, 'Mike', 40, 'male', 'Denmark')\n",
    "# (5, 'Elizabeth', 21, 'female', 'Canada')"
   ]
  },
  {
   "cell_type": "code",
   "execution_count": null,
   "metadata": {},
   "outputs": [],
   "source": [
    "# Таким же образом вы можете извлечь все записи из таблицы posts:\n",
    "\n",
    "        \n",
    "select_posts = \"SELECT * FROM posts\"\n",
    "posts = execute_read_query(connection, select_posts)\n",
    "\n",
    "for post in posts:\n",
    "    print(post)\n",
    "\n",
    "    \n",
    "# Вывод выглядит так:\n",
    "\n",
    "        \n",
    "# (1, 'Happy', 'I am feeling very happy today', 1)\n",
    "# (2, 'Hot Weather', 'The weather is very hot today', 2)\n",
    "# (3, 'Help', 'I need some help with my work', 2)\n",
    "# (4, 'Great News', 'I am getting married', 1)\n",
    "# (5, 'Interesting Game', 'It was a fantastic game of tennis', 5)\n",
    "# (6, 'Party', 'Anyone up for a late-night party today?', 3)"
   ]
  },
  {
   "cell_type": "code",
   "execution_count": null,
   "metadata": {},
   "outputs": [],
   "source": [
    "# JOIN\n",
    "# Вы также можете выполнять более сложные запросы, включающие операции типа JOIN для извлечения данных из двух связанных таблиц.\n",
    "# Например, следующий скрипт возвращает идентификаторы и имена пользователей, а также описание сообщений,\n",
    "# опубликованных этими пользователями:"
   ]
  },
  {
   "cell_type": "code",
   "execution_count": null,
   "metadata": {},
   "outputs": [],
   "source": [
    "select_users_posts = \"\"\"\n",
    "SELECT\n",
    "  users.id,\n",
    "  users.name,\n",
    "  posts.description\n",
    "FROM\n",
    "  posts\n",
    "  INNER JOIN users ON users.id = posts.user_id\n",
    "\"\"\"\n",
    "\n",
    "users_posts = execute_read_query(connection, select_users_posts)\n",
    "\n",
    "for users_post in users_posts:\n",
    "    print(users_post)"
   ]
  },
  {
   "cell_type": "code",
   "execution_count": null,
   "metadata": {},
   "outputs": [],
   "source": [
    "# Вывод данных:\n",
    "\n",
    "        \n",
    "# (1, 'James', 'I am feeling very happy today')\n",
    "# (2, 'Leila', 'The weather is very hot today')\n",
    "# (2, 'Leila', 'I need some help with my work')\n",
    "# (1, 'James', 'I am getting married')\n",
    "# (5, 'Elizabeth', 'It was a fantastic game of tennis')\n",
    "# (3, 'Brigitte', 'Anyone up for a late night party today?')"
   ]
  },
  {
   "cell_type": "code",
   "execution_count": null,
   "metadata": {},
   "outputs": [],
   "source": [
    "# Следующий скрипт возвращает все сообщения вместе с комментариями к сообщениям и именами пользователей,\n",
    "# которые разместили комментарии:\n",
    "\n",
    "        \n",
    "select_posts_comments_users = \"\"\"\n",
    "SELECT\n",
    "  posts.description as post,\n",
    "  text as comment,\n",
    "  name\n",
    "FROM\n",
    "  posts\n",
    "  INNER JOIN comments ON posts.id = comments.post_id\n",
    "  INNER JOIN users ON users.id = comments.user_id\n",
    "\"\"\"\n",
    "\n",
    "posts_comments_users = execute_read_query(\n",
    "    connection, select_posts_comments_users\n",
    ")\n",
    "\n",
    "for posts_comments_user in posts_comments_users:\n",
    "    print(posts_comments_user)"
   ]
  },
  {
   "cell_type": "code",
   "execution_count": null,
   "metadata": {},
   "outputs": [],
   "source": [
    "# Вывод выглядит так:\n",
    "\n",
    "        \n",
    "# ('Anyone up for a late night party today?', 'Count me in', 'James')\n",
    "# ('I need some help with my work', 'What sort of help?', 'Elizabeth')\n",
    "# ('I am getting married', 'Congrats buddy', 'Leila')\n",
    "# ('It was a fantastic game of tennis', 'I was rooting for Nadal though', 'Mike')\n",
    "# ('I need some help with my work', 'Help with your thesis?', 'Leila')\n",
    "# ('I am getting married', 'Many congratulations', 'Elizabeth')"
   ]
  },
  {
   "cell_type": "code",
   "execution_count": null,
   "metadata": {},
   "outputs": [],
   "source": [
    "# Из вывода понятно, что имена столбцов не были возвращены методом fetchall().\n",
    "# Чтобы вернуть имена столбцов, нужно забрать атрибут description объекта cursor.\n",
    "# Например, следующий список возвращает все имена столбцов для вышеуказанного запроса:\n",
    "\n",
    "        \n",
    "cursor = connection.cursor()\n",
    "cursor.execute(select_posts_comments_users)\n",
    "cursor.fetchall()\n",
    "\n",
    "column_names = [description[0] for description in cursor.description]\n",
    "print(column_names)\n",
    "\n",
    "    \n",
    "# Вывод выглядит так:\n",
    "\n",
    "        \n",
    "# ['post', 'comment', 'name']"
   ]
  },
  {
   "cell_type": "code",
   "execution_count": null,
   "metadata": {},
   "outputs": [],
   "source": [
    "# WHERE\n",
    "# Теперь мы выполним SELECT-запрос, который возвращает текст поста и общее количество лайков, им полученных:"
   ]
  },
  {
   "cell_type": "code",
   "execution_count": null,
   "metadata": {},
   "outputs": [],
   "source": [
    "select_post_likes = \"\"\"\n",
    "SELECT\n",
    "  description as Post,\n",
    "  COUNT(likes.id) as Likes\n",
    "FROM\n",
    "  likes,\n",
    "  posts\n",
    "WHERE\n",
    "  posts.id = likes.post_id\n",
    "GROUP BY\n",
    "  likes.post_id\n",
    "\"\"\"\n",
    "\n",
    "post_likes = execute_read_query(connection, select_post_likes)\n",
    "\n",
    "for post_like in post_likes:\n",
    "    print(post_like)"
   ]
  },
  {
   "cell_type": "code",
   "execution_count": null,
   "metadata": {},
   "outputs": [],
   "source": [
    "# Вывод следующий:\n",
    "\n",
    "        \n",
    "# ('The weather is very hot today', 1)\n",
    "# ('I need some help with my work', 1)\n",
    "# ('I am getting married', 2)\n",
    "# ('It was a fantastic game of tennis', 1)\n",
    "# ('Anyone up for a late night party today?', 2)\n",
    "\n",
    "    \n",
    "# То есть используя запрос WHERE, вы можете возвращать более конкретные результаты."
   ]
  },
  {
   "cell_type": "code",
   "execution_count": null,
   "metadata": {},
   "outputs": [],
   "source": []
  },
  {
   "cell_type": "code",
   "execution_count": null,
   "metadata": {},
   "outputs": [],
   "source": [
    "# 5. Извлечение данных из записей\n",
    "# MySQL\n",
    "# Процесс выбора записей в MySQL абсолютно идентичен процессу выбора записей в SQLite:\n",
    "\n",
    "        \n",
    "def execute_read_query(connection, query):\n",
    "    cursor = connection.cursor()\n",
    "    result = None\n",
    "    try:\n",
    "        cursor.execute(query)\n",
    "        result = cursor.fetchall()\n",
    "        return result\n",
    "    except Error as e:\n",
    "        print(f\"The error '{e}' occurred\")"
   ]
  },
  {
   "cell_type": "code",
   "execution_count": null,
   "metadata": {},
   "outputs": [],
   "source": [
    "# Теперь выберем все записи из таблицы users:\n",
    "\n",
    "        \n",
    "select_users = \"SELECT * FROM users\"\n",
    "users = execute_read_query(connection, select_users)\n",
    "\n",
    "for user in users:\n",
    "    print(user)\n",
    "\n",
    "    \n",
    "# Вывод будет похож на то, что мы видели с SQLite."
   ]
  },
  {
   "cell_type": "code",
   "execution_count": null,
   "metadata": {},
   "outputs": [],
   "source": []
  },
  {
   "cell_type": "code",
   "execution_count": null,
   "metadata": {},
   "outputs": [],
   "source": [
    "# 6. Обновление записей таблицы"
   ]
  },
  {
   "cell_type": "code",
   "execution_count": null,
   "metadata": {},
   "outputs": [],
   "source": [
    "# SQLite\n",
    "# Обновление записей в SQLite выглядит довольно просто. Снова можно применить execute_query().\n",
    "# В качестве примера обновим текст поста с id равным 2. Сначала создадим описание для SELECT:\n",
    "\n",
    "        \n",
    "select_post_description = \"SELECT description FROM posts WHERE id = 2\"\n",
    "\n",
    "post_description = execute_read_query(connection, select_post_description)\n",
    "\n",
    "for description in post_description:\n",
    "    print(description)"
   ]
  },
  {
   "cell_type": "code",
   "execution_count": null,
   "metadata": {},
   "outputs": [],
   "source": [
    "# Увидим следующий вывод:\n",
    "\n",
    "        \n",
    "# ('The weather is very hot today',)"
   ]
  },
  {
   "cell_type": "code",
   "execution_count": null,
   "metadata": {},
   "outputs": [],
   "source": [
    "# Следующий скрипт обновит описание:\n",
    "\n",
    "        \n",
    "update_post_description = \"\"\"\n",
    "UPDATE\n",
    "  posts\n",
    "SET\n",
    "  description = \"The weather has become pleasant now\"\n",
    "WHERE\n",
    "  id = 2\n",
    "\"\"\"\n",
    "\n",
    "execute_query(connection, update_post_description)"
   ]
  },
  {
   "cell_type": "code",
   "execution_count": null,
   "metadata": {},
   "outputs": [],
   "source": [
    "# Теперь, если мы выполним SELECT-запрос еще раз, увидим следующий результат:\n",
    "\n",
    "        \n",
    "# ('The weather has become pleasant now',)\n",
    "\n",
    "    \n",
    "# То есть запись была обновлена."
   ]
  },
  {
   "cell_type": "code",
   "execution_count": null,
   "metadata": {},
   "outputs": [],
   "source": []
  },
  {
   "cell_type": "code",
   "execution_count": null,
   "metadata": {},
   "outputs": [],
   "source": [
    "# 6. Обновление записей таблицы\n",
    "# MySQL\n",
    "# Процесс обновления записей в MySQL с помощью модуля mysql-connector-python является точной копией модуля sqlite3:"
   ]
  },
  {
   "cell_type": "code",
   "execution_count": null,
   "metadata": {},
   "outputs": [],
   "source": [
    "update_post_description = \"\"\"\n",
    "UPDATE\n",
    "  posts\n",
    "SET\n",
    "  description = \"The weather has become pleasant now\"\n",
    "WHERE\n",
    "  id = 2\n",
    "\"\"\"\n",
    "\n",
    "execute_query(connection,  update_post_description)"
   ]
  },
  {
   "cell_type": "code",
   "execution_count": null,
   "metadata": {},
   "outputs": [],
   "source": [
    "# 7. Удаление записей таблицы\n",
    "# SQLite\n",
    "# В качестве примера удалим комментарий с id равным 5:\n",
    "\n",
    "        \n",
    "delete_comment = \"DELETE FROM comments WHERE id = 5\"\n",
    "execute_query(connection, delete_comment)"
   ]
  },
  {
   "cell_type": "code",
   "execution_count": null,
   "metadata": {},
   "outputs": [],
   "source": [
    "# Теперь, если мы извлечем все записи из таблицы comments, то увидим, что пятый комментарий был удален.\n",
    "# Процесс удаления в MySQL и PostgreSQL идентичен SQLite:"
   ]
  },
  {
   "cell_type": "code",
   "execution_count": null,
   "metadata": {},
   "outputs": [],
   "source": []
  },
  {
   "cell_type": "code",
   "execution_count": null,
   "metadata": {},
   "outputs": [],
   "source": [
    "# Заключение\n",
    "# В этом руководстве мы разобрались, как применять три распространенные библиотеки Python для работы с реляционными базами данных.\n",
    "# Научившись работать с одним из модулей sqlite3, mysql-connector-python и psycopg2,\n",
    "# вы легко сможете перенести свои знания на другие модули и оперировать любой из баз данных SQLite, MySQL и PostgreSQL.\n",
    "\n",
    "# Однако это лишь вершина айсберга! Существуют также библиотеки для работы с SQL и объектно-реляционными отображениями,\n",
    "# такие как SQLAlchemy и Django ORM, которые автоматизируют задачи взаимодействия Python с базами данных."
   ]
  },
  {
   "cell_type": "code",
   "execution_count": null,
   "metadata": {},
   "outputs": [],
   "source": []
  },
  {
   "cell_type": "code",
   "execution_count": null,
   "metadata": {},
   "outputs": [],
   "source": []
  }
 ],
 "metadata": {
  "kernelspec": {
   "display_name": "Python 3",
   "language": "python",
   "name": "python3"
  },
  "language_info": {
   "codemirror_mode": {
    "name": "ipython",
    "version": 3
   },
   "file_extension": ".py",
   "mimetype": "text/x-python",
   "name": "python",
   "nbconvert_exporter": "python",
   "pygments_lexer": "ipython3",
   "version": "3.8.3"
  }
 },
 "nbformat": 4,
 "nbformat_minor": 4
}
