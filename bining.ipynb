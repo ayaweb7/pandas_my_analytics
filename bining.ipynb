{
 "cells": [
  {
   "cell_type": "code",
   "execution_count": null,
   "metadata": {},
   "outputs": [],
   "source": [
    "# Введение\n",
    "# При работе с непрерывными числовыми данными часто бывает полезно разделить (to bin)\n",
    "# данные на несколько сегментов для дальнейшего анализа.\n",
    "# Существует несколько терминов: сегментирование (bucketing), дискретное разделение (discrete binning),\n",
    "#     дискретизация (discretization) или квантование (quantization).\n",
    "#     Pandas поддерживает эти подходы с помощью функций cut и qcut.\n",
    "\n",
    "# В этой статье говорится о том, как использовать функции pandas для преобразования непрерывных данных\n",
    "# в набор дискретных сегментов. Как и многие функции pandas, cut и qcut могут показаться простыми,\n",
    "# но у них есть множество возможностей.\n",
    "# Думаю, даже опытные пользователи научатся нескольким приемам, которые будут полезны для анализа."
   ]
  },
  {
   "cell_type": "code",
   "execution_count": null,
   "metadata": {},
   "outputs": [],
   "source": [
    "# Биннинг (binning)\n",
    "# Один из наиболее распространенных случаев биннинга выполняется при создании гистограммы.\n",
    "\n",
    "# Рассмотрим пример с продажами. Гистограмма данных о продажах показывает,\n",
    "# как непрерывный набор показателей продаж можно разделить на дискретные ячейки (например: 60 000–70 000 долларов США),\n",
    "# а затем использовать их для группировки и подсчета учетных записей (account number)."
   ]
  },
  {
   "cell_type": "code",
   "execution_count": null,
   "metadata": {},
   "outputs": [],
   "source": [
    "# импортируем необходимые модули:\n",
    "import pandas as pd\n",
    "import numpy as np\n",
    "import seaborn as sns\n",
    "\n",
    "# добавляем в графики красивости seaborn:\n",
    "sns.set_style('whitegrid')"
   ]
  },
  {
   "cell_type": "code",
   "execution_count": null,
   "metadata": {},
   "outputs": [],
   "source": [
    "raw_df = pd.read_excel('https://github.com/chris1610/pbpython/blob/master/data/2018_Sales_Total_v2.xlsx?raw=true')\n",
    "raw_df.head()"
   ]
  },
  {
   "cell_type": "code",
   "execution_count": null,
   "metadata": {},
   "outputs": [],
   "source": []
  },
  {
   "cell_type": "code",
   "execution_count": null,
   "metadata": {},
   "outputs": [],
   "source": [
    "# Далее представлен код, который показывает, как суммировать информацию о продажах за 2018 год для группы клиентов.\n",
    "# Это представление отображает количество клиентов, у которых продажи находятся в определенных диапазонах:\n",
    "\n",
    "df = raw_df.groupby(['account number', 'name'])['ext price'].sum().reset_index()\n",
    "df.head()"
   ]
  },
  {
   "cell_type": "code",
   "execution_count": null,
   "metadata": {},
   "outputs": [],
   "source": [
    "df['ext price'].plot(kind='hist');"
   ]
  },
  {
   "cell_type": "code",
   "execution_count": null,
   "metadata": {},
   "outputs": [],
   "source": [
    "# Существует множество других сценариев, в которых вы можете определить собственные интервалы (bins).\n",
    "\n",
    "# В приведенном выше примере 8 интервалов с данными. Что, если бы мы захотели разделить наших клиентов на 3, 4 или 5 групп?\n",
    "\n",
    "# Вот где в игру вступают qcut и cut.\n",
    "# Эти функции кажутся похожими и выполняют аналогичные функции группирования, но имеют различия,\n",
    "# которые могут сбивать с толку новых пользователей.\n",
    "\n",
    "# Остальная часть статьи покажет, в чем их различия и как их использовать."
   ]
  },
  {
   "cell_type": "code",
   "execution_count": null,
   "metadata": {},
   "outputs": [],
   "source": []
  },
  {
   "cell_type": "code",
   "execution_count": null,
   "metadata": {},
   "outputs": [],
   "source": [
    "# qcut\n",
    "# В документации qcut описывается как \"функция дискретизации на основе квантилей\".\n",
    "# По сути, это означает, что qcut пытается разделить базовые данные на интервалы равного размера.\n",
    "# Функция определяет интервалы с использованием процентилей на основе распределения данных,\n",
    "# а не фактических числовых границ интервалов."
   ]
  },
  {
   "cell_type": "code",
   "execution_count": null,
   "metadata": {},
   "outputs": [],
   "source": [
    "# Если вы ранее использовали функцию description, то уже встречали пример основных концепций, представленных qcut:\n",
    "\n",
    "df['ext price'].describe()\n",
    "\n",
    "# Запомните значения для 25%, 50% и 75% процентилей, поскольку мы напрямую рассматрим использование qcut.\n",
    "# Самое простое использование qcut - определить количество квантилей и позволить pandas разделить данные."
   ]
  },
  {
   "cell_type": "code",
   "execution_count": null,
   "metadata": {},
   "outputs": [],
   "source": [
    "# В приведенном ниже примере мы просим pandas создать 4 группы одинакового размера:\n",
    "\n",
    "pd.qcut(df['ext price'], q=4)\n",
    "\n",
    "# В результате получается категориальный ряд (про категориальный тип данных в pandas см. тут),\n",
    "# представляющий интервалы с продажами. Поскольку мы запросили квантили с q=4,\n",
    "# поэтому интервалы соответствуют процентилям из функции describe.\n",
    "\n",
    "# Типичным вариантом использования является сохранение результатов разбиения в исходном фрейме данных (dataframe)\n",
    "# для будущего анализа."
   ]
  },
  {
   "cell_type": "code",
   "execution_count": null,
   "metadata": {},
   "outputs": [],
   "source": [
    "# В следующем примере мы создадим 4 интервала (также называемых квартилями)\n",
    "# и 10 интервалов (также называемых децилями) и сохраним результаты обратно в исходный фрейм данных:\n",
    "\n",
    "df['quantile_ex_1'] = pd.qcut(df['ext price'], q=4)\n",
    "df['quantile_ex_2'] = pd.qcut(df['ext price'], q=10, precision=0)\n",
    "\n",
    "df.head()\n",
    "\n",
    "# Обратите внимание, как сильно различаются интервалы между quantile_ex_1 и quantile_ex_2. Я также добавил precision (точности),\n",
    "# чтобы определить, сколько десятичных знаков использовать для вычисления точности интервала."
   ]
  },
  {
   "cell_type": "code",
   "execution_count": null,
   "metadata": {},
   "outputs": [],
   "source": []
  },
  {
   "cell_type": "code",
   "execution_count": null,
   "metadata": {},
   "outputs": [],
   "source": [
    "# Можем посмотреть, как значения распределяются по интервалам с помощью value_counts:\n",
    "\n",
    "df['quantile_ex_1'].value_counts()"
   ]
  },
  {
   "cell_type": "code",
   "execution_count": null,
   "metadata": {},
   "outputs": [],
   "source": [
    "# Теперь для второго столбца:\n",
    "\n",
    "df['quantile_ex_2'].value_counts()"
   ]
  },
  {
   "cell_type": "code",
   "execution_count": null,
   "metadata": {},
   "outputs": [],
   "source": [
    "# Это иллюстрирует ключевую концепцию: в каждом случае в каждом интервале содержится равное количество наблюдений.\n",
    "\n",
    "# Pandas за кулисами производит вычисления, чтобы определить ширину интервалов.\n",
    "# Например, в quantile_ex_1 диапазон первого интервала составляет 74661.15, а второго - 9861.02 (110132 - 100271).\n",
    "\n",
    "# Одна из проблем, связанных с этим подходом, заключается в том, что имена интервалов сложно объяснить конечному пользователю."
   ]
  },
  {
   "cell_type": "code",
   "execution_count": null,
   "metadata": {},
   "outputs": [],
   "source": []
  },
  {
   "cell_type": "code",
   "execution_count": null,
   "metadata": {},
   "outputs": [],
   "source": [
    "# Например, если мы хотим разделить наших клиентов на 5 групп (также называемых квинтилями),\n",
    "# как в случае с часто летающими авиакомпаниями, мы можем явно назвать интервалы, чтобы их было легче интерпретировать:\n",
    "\n",
    "bin_labels_5 = ['Bronze', 'Silver', 'Gold', 'Platinum', 'Diamond']\n",
    "\n",
    "df['quantile_ex_3'] = pd.qcut(df['ext price'],\n",
    "                              q=[0, .2, .4, .6, .8, 1],\n",
    "                              labels=bin_labels_5)\n",
    "df.head()\n",
    "\n",
    "В приведенном выше примере я сделал кое-что иначе.\n",
    "\n",
    "# Во-первых, явно определил диапазон используемых квантилей: q=[0, .2, .4, .6, .8, 1],\n",
    "#     а также задал метки labels=bin_labels_5 для использования при представлении интервалов."
   ]
  },
  {
   "cell_type": "code",
   "execution_count": null,
   "metadata": {},
   "outputs": [],
   "source": [
    "# Давайте проверим распределение:\n",
    "\n",
    "df['quantile_ex_3'].value_counts()"
   ]
  },
  {
   "cell_type": "code",
   "execution_count": null,
   "metadata": {},
   "outputs": [],
   "source": []
  },
  {
   "cell_type": "code",
   "execution_count": null,
   "metadata": {},
   "outputs": [],
   "source": []
  },
  {
   "cell_type": "code",
   "execution_count": null,
   "metadata": {},
   "outputs": [],
   "source": []
  },
  {
   "cell_type": "code",
   "execution_count": null,
   "metadata": {},
   "outputs": [],
   "source": []
  },
  {
   "cell_type": "code",
   "execution_count": null,
   "metadata": {},
   "outputs": [],
   "source": []
  }
 ],
 "metadata": {
  "kernelspec": {
   "display_name": "Python 3",
   "language": "python",
   "name": "python3"
  },
  "language_info": {
   "codemirror_mode": {
    "name": "ipython",
    "version": 3
   },
   "file_extension": ".py",
   "mimetype": "text/x-python",
   "name": "python",
   "nbconvert_exporter": "python",
   "pygments_lexer": "ipython3",
   "version": "3.8.3"
  }
 },
 "nbformat": 4,
 "nbformat_minor": 4
}
