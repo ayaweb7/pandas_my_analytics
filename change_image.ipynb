{
 "cells": [
  {
   "cell_type": "markdown",
   "id": "6bd1b9a6-2422-408f-ad7a-32853b74f851",
   "metadata": {},
   "source": [
    "# Изменение изображения с помощью Python"
   ]
  },
  {
   "cell_type": "markdown",
   "id": "5d8a5d1f-bcbf-4b37-9188-f5a40a4689f8",
   "metadata": {},
   "source": [
    "#### https://www.youtube.com/watch?v=VmCA2Z80XS4"
   ]
  },
  {
   "cell_type": "code",
   "execution_count": 23,
   "id": "a7f761af-99ce-476e-a86d-fcc377da9e03",
   "metadata": {},
   "outputs": [],
   "source": [
    "# Импортируем необходимые библиотеки\n",
    "\n",
    "# from PIL import Image\n",
    "from PIL import Image, ImageFilter\n",
    "# from PIL import ImageTk, Image\n",
    "import glob\n",
    "import os\n",
    "from pathlib import Path\n",
    "import re"
   ]
  },
  {
   "cell_type": "code",
   "execution_count": 19,
   "id": "e816917d-f1ff-4131-8839-45b6ab50c9bd",
   "metadata": {},
   "outputs": [
    {
     "name": "stdout",
     "output_type": "stream",
     "text": [
      "Requirement already satisfied: pillow in c:\\anaconda3\\lib\\site-packages (7.2.0)\n"
     ]
    }
   ],
   "source": [
    "!pip install pillow\n",
    "# !pip install glob\n",
    "# !pip install pathLib"
   ]
  },
  {
   "cell_type": "code",
   "execution_count": 2,
   "id": "6a8bce5f-743e-46a6-9f35-12c04def7474",
   "metadata": {},
   "outputs": [
    {
     "name": "stdout",
     "output_type": "stream",
     "text": [
      "<built-in function getcwd>\n"
     ]
    }
   ],
   "source": [
    "# \n",
    "print(os.getcwd)"
   ]
  },
  {
   "cell_type": "code",
   "execution_count": 4,
   "id": "57e4a295-eca4-41d6-9a60-ccd13d5b8fa1",
   "metadata": {},
   "outputs": [
    {
     "name": "stdout",
     "output_type": "stream",
     "text": [
      "[]\n"
     ]
    }
   ],
   "source": [
    "# \n",
    "print(list(glob.glob('primer/*')))"
   ]
  },
  {
   "cell_type": "code",
   "execution_count": 9,
   "id": "fad145dd-9717-435a-824c-afa855d72623",
   "metadata": {},
   "outputs": [],
   "source": [
    "# Пример определения пути к домашней папке\n",
    "downloads_path = str(Path.home() / 'Downloads')\n",
    "home_path = str(Path.home())"
   ]
  },
  {
   "cell_type": "code",
   "execution_count": 10,
   "id": "157d19e0-8037-4509-85b0-0541c69ebe67",
   "metadata": {},
   "outputs": [
    {
     "name": "stdout",
     "output_type": "stream",
     "text": [
      "C:\\Users\\Андрей\n",
      "C:\\Users\\Андрей\\Downloads\n"
     ]
    }
   ],
   "source": [
    "# Напечатали полный путь к домашней папке\n",
    "print(home_path)\n",
    "print(downloads_path)"
   ]
  },
  {
   "cell_type": "code",
   "execution_count": null,
   "id": "e05673ea-0b47-4367-83d0-202228de121f",
   "metadata": {},
   "outputs": [],
   "source": [
    "# Путь к исходной папке\n",
    "\n",
    "# D:\\father\\Cases\\photos_for_projects\n",
    "# C:\\Users\\Андрей\\Downloads\n",
    "# home = 'C:/Users/.../Downloads/Folder_of_Images'\n",
    "\n",
    "# home = 'C:\\Users\\Андрей\\Downloads'\n",
    "path = 'D:\\father\\Cases\\photos_for_projects'"
   ]
  },
  {
   "cell_type": "code",
   "execution_count": null,
   "id": "b90a4674-7836-4746-af15-c1d76bbf45e8",
   "metadata": {},
   "outputs": [],
   "source": [
    "# Название папки с исходниками\n",
    "folder_name = 'test'"
   ]
  },
  {
   "cell_type": "code",
   "execution_count": null,
   "id": "166a19d4-2ab9-4735-8410-82119fbfd64f",
   "metadata": {},
   "outputs": [],
   "source": [
    "# Папка - ПОЛНЫЙ ПУТЬ к папке где хранятся исходные картинки\n",
    "folder = path + folder_name"
   ]
  },
  {
   "cell_type": "code",
   "execution_count": null,
   "id": "9f41fb52-5d1b-492d-92a5-3245082a3e6f",
   "metadata": {},
   "outputs": [],
   "source": [
    "# Название папки - куда будут сохраняться ИЗМЕНЁННЫЕ картинки\n",
    "folder_save = 'new_pictures'"
   ]
  },
  {
   "cell_type": "code",
   "execution_count": null,
   "id": "9b5c2676-4a3d-40ae-bb4e-11e929341cc3",
   "metadata": {},
   "outputs": [],
   "source": [
    "# Если папки для изменённых картинок не существует, то она будет создана:\n",
    "if not os.path.isdir(folder + '\\' + folder_save):\n",
    "    os.mkdir(folder + '\\' + folder_save)"
   ]
  },
  {
   "cell_type": "markdown",
   "id": "a75591b3-46f0-4561-84ab-e72c74658710",
   "metadata": {},
   "source": [
    "### Создаём переменные-КОНСТАНТЫ"
   ]
  },
  {
   "cell_type": "code",
   "execution_count": 2,
   "id": "b970bf93-e0d5-4116-acbe-db7224eb56c9",
   "metadata": {},
   "outputs": [],
   "source": [
    "# Путь к исходной папке\n",
    "# PATH = 'C:/Users/Андрей/Downloads'\n",
    "PATH = 'D:/father/Cases/photos_for_projects'\n",
    "\n",
    "# Название папки с исходниками\n",
    "# FOLDER_NAME = 'Фото'\n",
    "FOLDER_NAME = 'test'\n",
    "\n",
    "# Папка - ПОЛНЫЙ ПУТЬ к папке где хранятся исходные картинки\n",
    "FOLDER = f'{PATH}/{FOLDER_NAME}'\n",
    "\n",
    "# Название папки - куда будут сохраняться ИЗМЕНЁННЫЕ картинки\n",
    "SAVE = 'new_pictures'\n",
    "\n",
    "# Полный путь к папке - куда будут сохраняться ИЗМЕНЁННЫЕ картинки\n",
    "FOLDER_SAVE = f'{FOLDER}/{SAVE}'"
   ]
  },
  {
   "cell_type": "code",
   "execution_count": 3,
   "id": "7d4b625a-a82f-4cee-8d63-f2f2bf964922",
   "metadata": {},
   "outputs": [
    {
     "name": "stdout",
     "output_type": "stream",
     "text": [
      "Path: D:/father/Cases/photos_for_projects\n",
      "Folder_Name: test\n",
      "Full_Folder_Name: D:/father/Cases/photos_for_projects/test\n",
      "New_Folder_Name: new_pictures\n",
      "Full_New_Folder: D:/father/Cases/photos_for_projects/test/new_pictures\n"
     ]
    }
   ],
   "source": [
    "print(f'Path: {PATH}')\n",
    "print(f'Folder_Name: {FOLDER_NAME}')\n",
    "print(f'Full_Folder_Name: {FOLDER}')\n",
    "print(f'New_Folder_Name: {SAVE}')\n",
    "print(f'Full_New_Folder: {FOLDER_SAVE}')"
   ]
  },
  {
   "cell_type": "code",
   "execution_count": 93,
   "id": "b31260b6-f915-4756-89a1-e0cbc3569f48",
   "metadata": {},
   "outputs": [],
   "source": [
    "# Если папки для изменённых картинок не существует, то она будет создана:\n",
    "# if not os.path.isdir(FOLDER + '/' + FOLDER_SAVE):\n",
    "#     os.mkdir(FOLDER + '/' + FOLDER_SAVE)\n",
    "\n",
    "\n",
    "if not os.path.isdir(FOLDER_SAVE):\n",
    "    os.mkdir(FOLDER_SAVE)"
   ]
  },
  {
   "cell_type": "code",
   "execution_count": null,
   "id": "f70f9044-b52b-488c-a630-8bb6d9f85006",
   "metadata": {},
   "outputs": [],
   "source": [
    "# folder_name = f\"data/data_{item}\"\n",
    "\n",
    "#         if os.path.exists(folder_name):\n",
    "#             print(\"Папка уже существует!\")\n",
    "#         else:\n",
    "#             os.mkdir(folder_name)"
   ]
  },
  {
   "cell_type": "markdown",
   "id": "71ec9f28-46aa-408d-a102-3d01ffe8e5ea",
   "metadata": {},
   "source": [
    "### Подготовительные действия"
   ]
  },
  {
   "cell_type": "code",
   "execution_count": 4,
   "id": "604c9b33-8fd2-4421-89a0-0670fd6804f6",
   "metadata": {},
   "outputs": [],
   "source": [
    "# Типы файлов, предназначенные к обработке\n",
    "types = ('*.png', '*.jpg', '*.jpeg')"
   ]
  },
  {
   "cell_type": "code",
   "execution_count": 5,
   "id": "30b5a1aa-ba14-413a-b494-cd2abf788218",
   "metadata": {},
   "outputs": [],
   "source": [
    "# Пустой список для названий файлов с картинками\n",
    "files_grabbed = []"
   ]
  },
  {
   "cell_type": "code",
   "execution_count": 6,
   "id": "aa45da71-7cac-4343-8c59-f40f2bf32390",
   "metadata": {},
   "outputs": [],
   "source": [
    "# Создание списка с названиями картинок\n",
    "for file in types:\n",
    "    files_grabbed.extend(glob.glob(f'{FOLDER}/{file}'))"
   ]
  },
  {
   "cell_type": "code",
   "execution_count": 7,
   "id": "5b698ae0-4d9b-4526-9fef-9a9f3341234f",
   "metadata": {},
   "outputs": [
    {
     "name": "stdout",
     "output_type": "stream",
     "text": [
      "['D:/father/Cases/photos_for_projects/test\\\\1679502145393.jpg', 'D:/father/Cases/photos_for_projects/test\\\\1693567237073.jpg']\n"
     ]
    }
   ],
   "source": [
    "# \n",
    "print(files_grabbed)"
   ]
  },
  {
   "cell_type": "code",
   "execution_count": 8,
   "id": "b1e3a62f-b570-47d2-989e-d96880ff60d6",
   "metadata": {},
   "outputs": [
    {
     "name": "stdout",
     "output_type": "stream",
     "text": [
      "Найдено файлов: 2\n"
     ]
    }
   ],
   "source": [
    "# \n",
    "print(f'Найдено файлов: {len(files_grabbed)}')"
   ]
  },
  {
   "cell_type": "code",
   "execution_count": null,
   "id": "b030e045-2572-41bd-98b8-d14e574f7278",
   "metadata": {},
   "outputs": [],
   "source": []
  },
  {
   "cell_type": "markdown",
   "id": "e3f5e289-04ae-4029-8f0a-05ad80f4f0f5",
   "metadata": {},
   "source": [
    "### Скрипт"
   ]
  },
  {
   "cell_type": "code",
   "execution_count": 21,
   "id": "7933903d-b951-4c78-b89d-12ca9de665c8",
   "metadata": {},
   "outputs": [
    {
     "name": "stdout",
     "output_type": "stream",
     "text": [
      "D:/father/Cases/photos_for_projects/test\\1679502145393.jpg\n",
      "1: 1679502145393.jpg - DONE !!!\n",
      "D:/father/Cases/photos_for_projects/test\\1693567237073.jpg\n",
      "2: 1693567237073.jpg - DONE !!!\n"
     ]
    }
   ],
   "source": [
    "# \n",
    "count = 1\n",
    "for i in files_grabbed:\n",
    "    print(i)\n",
    "    # save_name = i.replace(FOLDER, '').replace('/', '').replace('\\\\', '')\n",
    "    save_name = i.replace(FOLDER, '')\n",
    "    save_name = re.sub(r'\\\\', '', save_name)\n",
    "    \n",
    "    img = Image.open(i)\n",
    "    if img.height > 200 or img.width > 200:\n",
    "        output_size = (200, 200)\n",
    "        img.thumbnail(output_size)\n",
    "        img.save(f'{FOLDER_SAVE}/{save_name}')\n",
    "    else:\n",
    "        img.save(f'{FOLDER_SAVE}/{save_name}')\n",
    "\n",
    "    print(f'{count}: {save_name} - DONE !!!')\n",
    "    count += 1"
   ]
  },
  {
   "cell_type": "code",
   "execution_count": 16,
   "id": "52334f9f-4955-4b31-ad6e-02be3dd620ad",
   "metadata": {},
   "outputs": [
    {
     "name": "stdout",
     "output_type": "stream",
     "text": [
      "1679502145393.jpg\n",
      "1693567237073.jpg\n"
     ]
    }
   ],
   "source": [
    "# \n",
    "for i in files_grabbed:\n",
    "    # print(i)\n",
    "    save_name = i.replace(FOLDER, '')\n",
    "    save_name = re.sub(r'\\\\', '', save_name)\n",
    "    print(save_name)"
   ]
  },
  {
   "cell_type": "code",
   "execution_count": null,
   "id": "22722f8f-3ad5-4a2b-a793-492ef9b912c3",
   "metadata": {},
   "outputs": [],
   "source": [
    "# \n",
    "re.sub('[^а-яА-Яa-zA-Z0-9,? \\n\\.]', '', st"
   ]
  },
  {
   "cell_type": "code",
   "execution_count": null,
   "id": "eb9ebabe-ab44-4162-a19c-cf4b496f74ac",
   "metadata": {},
   "outputs": [],
   "source": []
  },
  {
   "cell_type": "markdown",
   "id": "8c7b8e10-0752-40e4-89a3-663b81386689",
   "metadata": {},
   "source": [
    "## Как использовать Pillow для работы с изображениями"
   ]
  },
  {
   "cell_type": "markdown",
   "id": "d4ab9bf0-546c-463c-8131-83197e9c7bf5",
   "metadata": {},
   "source": [
    "#### Чтобы загрузить изображение с помощью try except используйте:"
   ]
  },
  {
   "cell_type": "code",
   "execution_count": null,
   "id": "a4ad8a42-a69f-44f4-a9dd-7ba5aabc24f9",
   "metadata": {},
   "outputs": [],
   "source": [
    "# from PIL import Image, ImageFilter\n",
    "\n",
    "try:  \n",
    "    original = Image.open(\"Lenna.png\")\n",
    "except FileNotFoundError:  \n",
    "    print(\"Файл не найден\")"
   ]
  },
  {
   "cell_type": "code",
   "execution_count": 34,
   "id": "a7d2d475-00ca-44ca-bbf6-d72c8daaf606",
   "metadata": {},
   "outputs": [],
   "source": [
    "# original = Image.open('D:/father/Cases/photos_for_projects/test/1679502145393.jpg')\n",
    "original = Image.open('D:/father/Cases/photos_for_projects/test/IMG_20231224_105040.jpg')"
   ]
  },
  {
   "cell_type": "code",
   "execution_count": 25,
   "id": "0d342f06-1f57-40fd-a2d4-00b22dc1a5f8",
   "metadata": {},
   "outputs": [],
   "source": [
    "# from PIL import Image, ImageFilter\n",
    "\n",
    "try:\n",
    "    original = Image.open('D:/father/Cases/photos_for_projects/test/1679502145393.jpg')\n",
    "except FileNotFoundError:\n",
    "    print('Файл не найден')"
   ]
  },
  {
   "cell_type": "code",
   "execution_count": 27,
   "id": "3dd87b54-b158-4b01-8e47-646edb719d5a",
   "metadata": {},
   "outputs": [],
   "source": [
    "# from PIL import Image, ImageFilter\n",
    "\n",
    "try:  \n",
    "    original_mini = Image.open('D:/father/Cases/photos_for_projects/test/new_pictures/1679502145393.jpg')  \n",
    "except FileNotFoundError:  \n",
    "    print('Файл не найден')"
   ]
  },
  {
   "cell_type": "markdown",
   "id": "833f43ae-aebe-483b-92e9-8924c4b65840",
   "metadata": {},
   "source": [
    "#### Теперь, когда у вас есть объект Image, вы можете использовать доступные атрибуты для проверки файла.\n",
    "Например, если вы хотите увидеть размер изображения, вы можете использовать атрибут format."
   ]
  },
  {
   "cell_type": "code",
   "execution_count": 26,
   "id": "91797fe1-5c53-4ed8-9bfc-aed39e478c86",
   "metadata": {},
   "outputs": [
    {
     "name": "stdout",
     "output_type": "stream",
     "text": [
      "Размер изображения:\n",
      "JPEG (1920, 1080) RGB\n"
     ]
    }
   ],
   "source": [
    "print(\"Размер изображения:\")  \n",
    "print(original.format, original.size, original.mode)"
   ]
  },
  {
   "cell_type": "code",
   "execution_count": 29,
   "id": "d2751010-cb2b-4011-99f3-189592482e61",
   "metadata": {},
   "outputs": [
    {
     "name": "stdout",
     "output_type": "stream",
     "text": [
      "Размер изображения:\n",
      "JPEG (200, 113) RGB\n"
     ]
    }
   ],
   "source": [
    "print(\"Размер изображения:\")  \n",
    "print(original_mini.format, original_mini.size, original_mini.mode)"
   ]
  },
  {
   "cell_type": "markdown",
   "id": "481e918a-289b-472a-ae02-b3f7cee9034a",
   "metadata": {},
   "source": [
    "Атрибут size — это tuple(кортеж), содержащий ширину и высоту (в пикселях).\n",
    "Обычные mode: L для изображений с оттенками серого, RGB для изображений с истинным цветным изображением и CMYK для печати изображений."
   ]
  },
  {
   "cell_type": "markdown",
   "id": "6ce9e8cc-5958-4a16-b6e6-e018cc34d847",
   "metadata": {},
   "source": [
    "#### Этот пример загрузит и размоет изображение с жесткого диска."
   ]
  },
  {
   "cell_type": "code",
   "execution_count": null,
   "id": "26c0899d-a573-48fe-a800-a51dccd67daf",
   "metadata": {},
   "outputs": [],
   "source": [
    "# импортируем необходимые модули\n",
    "from PIL import Image, ImageFilter\n",
    "\n",
    "try:\n",
    "    # загружаем изображение с жесткого диска\n",
    "    original = Image.open(\"Lenna.png\")\n",
    "except FileNotFoundError:\n",
    "    print(\"Файл не найден\")\n",
    "\n",
    "# размываем изображение\n",
    "blurred = original.filter(ImageFilter.BLUR)\n",
    "# открываем оригинал и размытое изображение\n",
    "original.show()\n",
    "blurred.show()\n",
    "# сохраняем изображение\n",
    "blurred.save(\"blurred.png\")"
   ]
  },
  {
   "cell_type": "code",
   "execution_count": 32,
   "id": "1feee273-8b6d-4168-a192-0386711626b8",
   "metadata": {},
   "outputs": [],
   "source": [
    "\n",
    "# размываем изображение\n",
    "blurred = original.filter(ImageFilter.BLUR)\n",
    "# открываем оригинал и размытое изображение\n",
    "original.show()\n",
    "blurred.show()\n",
    "# сохраняем изображение\n",
    "blurred.save('D:/father/Cases/photos_for_projects/test/1679502145393_blurred.jpg')"
   ]
  },
  {
   "cell_type": "markdown",
   "id": "20cc662c-25a0-4bfb-8c2c-7aec006eda1a",
   "metadata": {},
   "source": [
    "#### Создание миниатюр"
   ]
  },
  {
   "cell_type": "markdown",
   "id": "f1eaf052-94b1-44d4-a1f1-cfeffefadd29",
   "metadata": {},
   "source": [
    "Есть необходимость создавать миниатюры для изображений.\n",
    "Миниатюры представляют собой уменьшенные версии изображений, но все же содержат все наиболее важные аспекты изображения."
   ]
  },
  {
   "cell_type": "code",
   "execution_count": null,
   "id": "7b746997-96b5-45d3-92bf-31d524cbcd18",
   "metadata": {},
   "outputs": [],
   "source": [
    "from PIL import Image\n",
    "\n",
    "size = (128, 128)\n",
    "saved = \"lenna.jpeg\"\n",
    "img = Image.open(\"Lenna.png\")\n",
    "img.thumbnail(size)\n",
    "img.save(saved)\n",
    "img.show()"
   ]
  },
  {
   "cell_type": "code",
   "execution_count": 36,
   "id": "659b7116-371c-482d-afcd-794da24b7c18",
   "metadata": {},
   "outputs": [],
   "source": [
    "# from PIL import Image\n",
    "# original = Image.open('D:/father/Cases/photos_for_projects/test/1679502145393.jpg')\n",
    "\n",
    "size = (128, 128)\n",
    "saved = 'D:/father/Cases/photos_for_projects/test/new_pictures/1679502145393_mini_128.jpg'\n",
    "img = Image.open('D:/father/Cases/photos_for_projects/test/1679502145393.jpg')\n",
    "img.thumbnail(size)\n",
    "img.save(saved)\n",
    "img.show()"
   ]
  },
  {
   "cell_type": "markdown",
   "id": "8c088037-ee81-4376-be14-c5d66c16815e",
   "metadata": {},
   "source": [
    "#### Фильтры в Pillow"
   ]
  },
  {
   "cell_type": "markdown",
   "id": "15b87f3b-e4fe-47af-881b-1fc23c364c54",
   "metadata": {},
   "source": [
    "В модуле Pillow предоставляет следующий набор предопределенных фильтров для улучшения изображения:\n",
    "\n",
    "BLUR - РАЗМЫТИЕ\n",
    "CONTOUR - КОНТУР\n",
    "DETAIL - ДЕТАЛЬ\n",
    "EDGE_ENHANCE - УСИЛЕНИЕ_КРАЕВ\n",
    "EDGE_ENHANCE_MORE - УСИЛЕНИЕ_КРАЕВ_БОЛЬШЕ\n",
    "EMBOSS - ЧЕТКОСТЬ\n",
    "FIND_EDGES - НАЙТИ_КРАЯ\n",
    "SMOOTH - ГЛАДКИЙ\n",
    "SMOOTH_MORE - ГЛАДКИЙ_БОЛЬШЕ\n",
    "SHARPEN - РЕЗКОСТЬ"
   ]
  },
  {
   "cell_type": "markdown",
   "id": "6142bd66-5eb7-4819-8dd1-080526f22fc0",
   "metadata": {},
   "source": [
    "В нашем последнем примере мы покажем, как вы можете применить фильтр CONTOUR к вашему изображению.\n",
    "Приведенный ниже код примет наше изображение и применит к нему фильтр."
   ]
  },
  {
   "cell_type": "code",
   "execution_count": 39,
   "id": "90249df9-2078-4c15-aca6-9c4568a4bafd",
   "metadata": {},
   "outputs": [],
   "source": [
    "# from PIL import Image, ImageFilter\n",
    "\n",
    "original = Image.open('D:/father/Cases/photos_for_projects/test/IMG_20231224_105040.jpg')\n",
    "# img = Image.open(\"Lenna.png\")\n",
    "img = original\n",
    "# img = img.filter(ImageFilter.CONTOUR)\n",
    "img = img.filter(ImageFilter.BLUR)\n",
    "img.save('D:/father/Cases/photos_for_projects/test/new_pictures/IMG_20231224_105040_blur.jpg')\n",
    "img.show()"
   ]
  },
  {
   "cell_type": "code",
   "execution_count": null,
   "id": "627b6467-f9b8-4749-83ce-28a2d8244b04",
   "metadata": {},
   "outputs": [],
   "source": [
    "#### "
   ]
  },
  {
   "cell_type": "code",
   "execution_count": null,
   "id": "69fba018-dd87-4915-ba22-fcd5ec5f447b",
   "metadata": {},
   "outputs": [],
   "source": []
  },
  {
   "cell_type": "code",
   "execution_count": null,
   "id": "7d0ad7fd-f1b4-487e-bcea-e555add92e23",
   "metadata": {},
   "outputs": [],
   "source": [
    "#### "
   ]
  },
  {
   "cell_type": "code",
   "execution_count": null,
   "id": "f7cd1543-239f-4f78-a379-67bcbfab308b",
   "metadata": {},
   "outputs": [],
   "source": []
  },
  {
   "cell_type": "code",
   "execution_count": null,
   "id": "5d9002de-2cc8-43d3-9c6f-4429ea56d03c",
   "metadata": {},
   "outputs": [],
   "source": [
    "#### "
   ]
  },
  {
   "cell_type": "code",
   "execution_count": null,
   "id": "37c10b7b-7dac-4ec8-a2d9-96151c14a60f",
   "metadata": {},
   "outputs": [],
   "source": []
  },
  {
   "cell_type": "code",
   "execution_count": null,
   "id": "0bce59be-b81b-41d5-ba65-6eaf78e2f385",
   "metadata": {},
   "outputs": [],
   "source": [
    "#### "
   ]
  },
  {
   "cell_type": "code",
   "execution_count": null,
   "id": "76d754a0-37bf-47da-b902-e93fb90f6c98",
   "metadata": {},
   "outputs": [],
   "source": []
  }
 ],
 "metadata": {
  "kernelspec": {
   "display_name": "Python 3 (ipykernel)",
   "language": "python",
   "name": "python3"
  },
  "language_info": {
   "codemirror_mode": {
    "name": "ipython",
    "version": 3
   },
   "file_extension": ".py",
   "mimetype": "text/x-python",
   "name": "python",
   "nbconvert_exporter": "python",
   "pygments_lexer": "ipython3",
   "version": "3.10.4"
  }
 },
 "nbformat": 4,
 "nbformat_minor": 5
}
