{
 "cells": [
  {
   "cell_type": "code",
   "execution_count": null,
   "metadata": {},
   "outputs": [],
   "source": [
    "# SHOPS ANALYTIC"
   ]
  },
  {
   "cell_type": "code",
   "execution_count": 4,
   "metadata": {},
   "outputs": [],
   "source": [
    "# IMPORT modules\n",
    "import pandas as pd\n",
    "import numpy as np\n",
    "from datetime import datetime"
   ]
  },
  {
   "cell_type": "code",
   "execution_count": null,
   "metadata": {},
   "outputs": [],
   "source": []
  },
  {
   "cell_type": "code",
   "execution_count": 1,
   "metadata": {},
   "outputs": [],
   "source": [
    "# Ссылка на скачивание:\n",
    "# \\\\USER-PC\\Users\\Андрей\\Downloads"
   ]
  },
  {
   "cell_type": "code",
   "execution_count": 7,
   "metadata": {},
   "outputs": [
    {
     "data": {
      "text/html": [
       "<div>\n",
       "<style scoped>\n",
       "    .dataframe tbody tr th:only-of-type {\n",
       "        vertical-align: middle;\n",
       "    }\n",
       "\n",
       "    .dataframe tbody tr th {\n",
       "        vertical-align: top;\n",
       "    }\n",
       "\n",
       "    .dataframe thead th {\n",
       "        text-align: right;\n",
       "    }\n",
       "</style>\n",
       "<table border=\"1\" class=\"dataframe\">\n",
       "  <thead>\n",
       "    <tr style=\"text-align: right;\">\n",
       "      <th></th>\n",
       "      <th>id</th>\n",
       "      <th>date</th>\n",
       "      <th>shop</th>\n",
       "      <th>gruppa</th>\n",
       "      <th>name</th>\n",
       "      <th>characteristic</th>\n",
       "      <th>quantity</th>\n",
       "      <th>item</th>\n",
       "      <th>price</th>\n",
       "      <th>amount</th>\n",
       "      <th>id_store</th>\n",
       "    </tr>\n",
       "  </thead>\n",
       "  <tbody>\n",
       "    <tr>\n",
       "      <th>0</th>\n",
       "      <td>1</td>\n",
       "      <td>2019-01-19</td>\n",
       "      <td>Мира Инструмент</td>\n",
       "      <td>Инструмент</td>\n",
       "      <td>Ремень</td>\n",
       "      <td>приводной для рубанка RICHENG 106 x L031</td>\n",
       "      <td>2</td>\n",
       "      <td>шт.</td>\n",
       "      <td>130.00</td>\n",
       "      <td>260.00</td>\n",
       "      <td>53.0</td>\n",
       "    </tr>\n",
       "    <tr>\n",
       "      <th>1</th>\n",
       "      <td>2</td>\n",
       "      <td>2018-11-11</td>\n",
       "      <td>Реал Маркет Коряжма</td>\n",
       "      <td>Электрика</td>\n",
       "      <td>Клипса</td>\n",
       "      <td>крепёж гофры 16мм ЭКО сосна</td>\n",
       "      <td>20</td>\n",
       "      <td>шт.</td>\n",
       "      <td>4.00</td>\n",
       "      <td>80.00</td>\n",
       "      <td>1.0</td>\n",
       "    </tr>\n",
       "    <tr>\n",
       "      <th>2</th>\n",
       "      <td>3</td>\n",
       "      <td>2019-01-19</td>\n",
       "      <td>Подшипники Коряжма</td>\n",
       "      <td>Расходники</td>\n",
       "      <td>Подшипник</td>\n",
       "      <td>625 (270)</td>\n",
       "      <td>1</td>\n",
       "      <td>шт.</td>\n",
       "      <td>60.00</td>\n",
       "      <td>60.00</td>\n",
       "      <td>63.0</td>\n",
       "    </tr>\n",
       "    <tr>\n",
       "      <th>3</th>\n",
       "      <td>4</td>\n",
       "      <td>2017-08-04</td>\n",
       "      <td>СтройМир на Пугачёва</td>\n",
       "      <td>Лакокрасочные</td>\n",
       "      <td>Краска</td>\n",
       "      <td>масляная МА бирюзовая 1,9кг. РадугаМалер</td>\n",
       "      <td>1</td>\n",
       "      <td>шт.</td>\n",
       "      <td>230.00</td>\n",
       "      <td>230.00</td>\n",
       "      <td>66.0</td>\n",
       "    </tr>\n",
       "    <tr>\n",
       "      <th>4</th>\n",
       "      <td>5</td>\n",
       "      <td>2017-08-04</td>\n",
       "      <td>СтройМир на Пугачёва</td>\n",
       "      <td>Расходники</td>\n",
       "      <td>Саморезы</td>\n",
       "      <td>4,2 х 41 (100шт.) с пресс-шайбой острые</td>\n",
       "      <td>1</td>\n",
       "      <td>шт.</td>\n",
       "      <td>60.00</td>\n",
       "      <td>60.00</td>\n",
       "      <td>66.0</td>\n",
       "    </tr>\n",
       "    <tr>\n",
       "      <th>...</th>\n",
       "      <td>...</td>\n",
       "      <td>...</td>\n",
       "      <td>...</td>\n",
       "      <td>...</td>\n",
       "      <td>...</td>\n",
       "      <td>...</td>\n",
       "      <td>...</td>\n",
       "      <td>...</td>\n",
       "      <td>...</td>\n",
       "      <td>...</td>\n",
       "      <td>...</td>\n",
       "    </tr>\n",
       "    <tr>\n",
       "      <th>1698</th>\n",
       "      <td>1728</td>\n",
       "      <td>2021-10-06</td>\n",
       "      <td>МКРЕП</td>\n",
       "      <td>Расходники</td>\n",
       "      <td>Саморезы</td>\n",
       "      <td>3,0 х 40мм. Pozi, жёлтые пассированные</td>\n",
       "      <td>50</td>\n",
       "      <td>шт.</td>\n",
       "      <td>0.60</td>\n",
       "      <td>30.00</td>\n",
       "      <td>NaN</td>\n",
       "    </tr>\n",
       "    <tr>\n",
       "      <th>1699</th>\n",
       "      <td>1729</td>\n",
       "      <td>2021-10-06</td>\n",
       "      <td>МКРЕП</td>\n",
       "      <td>Расходники</td>\n",
       "      <td>Саморезы</td>\n",
       "      <td>4,2 х 32мм. с пресс-шайбой острые</td>\n",
       "      <td>50</td>\n",
       "      <td>шт.</td>\n",
       "      <td>1.30</td>\n",
       "      <td>65.00</td>\n",
       "      <td>NaN</td>\n",
       "    </tr>\n",
       "    <tr>\n",
       "      <th>1700</th>\n",
       "      <td>1730</td>\n",
       "      <td>2021-09-01</td>\n",
       "      <td>Северная Сбытовая Компания</td>\n",
       "      <td>Коммуналка</td>\n",
       "      <td>ЭлектроЭнергия</td>\n",
       "      <td>2021 - 09 (сентябрь)</td>\n",
       "      <td>50</td>\n",
       "      <td>кВт/ч</td>\n",
       "      <td>5.11</td>\n",
       "      <td>298.94</td>\n",
       "      <td>NaN</td>\n",
       "    </tr>\n",
       "    <tr>\n",
       "      <th>1701</th>\n",
       "      <td>1731</td>\n",
       "      <td>2021-09-01</td>\n",
       "      <td>Газпром МежрегионГаз Вологда</td>\n",
       "      <td>Коммуналка</td>\n",
       "      <td>Газ</td>\n",
       "      <td>2021 - 09 (сентябрь)</td>\n",
       "      <td>50</td>\n",
       "      <td>куб.м.</td>\n",
       "      <td>4.99</td>\n",
       "      <td>249.55</td>\n",
       "      <td>NaN</td>\n",
       "    </tr>\n",
       "    <tr>\n",
       "      <th>1702</th>\n",
       "      <td>1732</td>\n",
       "      <td>2021-09-01</td>\n",
       "      <td>АкваЛайн</td>\n",
       "      <td>Коммуналка</td>\n",
       "      <td>ТКО</td>\n",
       "      <td>2021 - 09 (сентябрь); норматив - 0,21792 куб.м...</td>\n",
       "      <td>0</td>\n",
       "      <td>куб.м.</td>\n",
       "      <td>545.14</td>\n",
       "      <td>118.80</td>\n",
       "      <td>NaN</td>\n",
       "    </tr>\n",
       "  </tbody>\n",
       "</table>\n",
       "<p>1703 rows × 11 columns</p>\n",
       "</div>"
      ],
      "text/plain": [
       "        id        date                          shop         gruppa  \\\n",
       "0        1  2019-01-19               Мира Инструмент     Инструмент   \n",
       "1        2  2018-11-11           Реал Маркет Коряжма      Электрика   \n",
       "2        3  2019-01-19            Подшипники Коряжма     Расходники   \n",
       "3        4  2017-08-04          СтройМир на Пугачёва  Лакокрасочные   \n",
       "4        5  2017-08-04          СтройМир на Пугачёва     Расходники   \n",
       "...    ...         ...                           ...            ...   \n",
       "1698  1728  2021-10-06                         МКРЕП     Расходники   \n",
       "1699  1729  2021-10-06                         МКРЕП     Расходники   \n",
       "1700  1730  2021-09-01    Северная Сбытовая Компания     Коммуналка   \n",
       "1701  1731  2021-09-01  Газпром МежрегионГаз Вологда     Коммуналка   \n",
       "1702  1732  2021-09-01                      АкваЛайн     Коммуналка   \n",
       "\n",
       "                name                                     characteristic  \\\n",
       "0             Ремень           приводной для рубанка RICHENG 106 x L031   \n",
       "1             Клипса                        крепёж гофры 16мм ЭКО сосна   \n",
       "2          Подшипник                                          625 (270)   \n",
       "3             Краска           масляная МА бирюзовая 1,9кг. РадугаМалер   \n",
       "4           Саморезы           4,2 х 41 (100шт.) с пресс-шайбой острые    \n",
       "...              ...                                                ...   \n",
       "1698        Саморезы             3,0 х 40мм. Pozi, жёлтые пассированные   \n",
       "1699        Саморезы                  4,2 х 32мм. с пресс-шайбой острые   \n",
       "1700  ЭлектроЭнергия                               2021 - 09 (сентябрь)   \n",
       "1701             Газ                               2021 - 09 (сентябрь)   \n",
       "1702             ТКО  2021 - 09 (сентябрь); норматив - 0,21792 куб.м...   \n",
       "\n",
       "      quantity    item   price  amount  id_store  \n",
       "0            2     шт.  130.00  260.00      53.0  \n",
       "1           20     шт.    4.00   80.00       1.0  \n",
       "2            1     шт.   60.00   60.00      63.0  \n",
       "3            1     шт.  230.00  230.00      66.0  \n",
       "4            1     шт.   60.00   60.00      66.0  \n",
       "...        ...     ...     ...     ...       ...  \n",
       "1698        50     шт.    0.60   30.00       NaN  \n",
       "1699        50     шт.    1.30   65.00       NaN  \n",
       "1700        50   кВт/ч    5.11  298.94       NaN  \n",
       "1701        50  куб.м.    4.99  249.55       NaN  \n",
       "1702         0  куб.м.  545.14  118.80       NaN  \n",
       "\n",
       "[1703 rows x 11 columns]"
      ]
     },
     "execution_count": 7,
     "metadata": {},
     "output_type": "execute_result"
    }
   ],
   "source": [
    "# Открытие файла из папки \"ЗАГРУЗКИ\"\n",
    "shops = pd.read_csv('C:/Users/Андрей/Downloads/shops.csv')\n",
    "shops"
   ]
  },
  {
   "cell_type": "code",
   "execution_count": null,
   "metadata": {},
   "outputs": [],
   "source": []
  },
  {
   "cell_type": "code",
   "execution_count": 8,
   "metadata": {},
   "outputs": [
    {
     "name": "stdout",
     "output_type": "stream",
     "text": [
      "<class 'pandas.core.frame.DataFrame'>\n",
      "RangeIndex: 1703 entries, 0 to 1702\n",
      "Data columns (total 11 columns):\n",
      " #   Column          Non-Null Count  Dtype  \n",
      "---  ------          --------------  -----  \n",
      " 0   id              1703 non-null   int64  \n",
      " 1   date            1703 non-null   object \n",
      " 2   shop            1703 non-null   object \n",
      " 3   gruppa          1703 non-null   object \n",
      " 4   name            1703 non-null   object \n",
      " 5   characteristic  1702 non-null   object \n",
      " 6   quantity        1703 non-null   int64  \n",
      " 7   item            1703 non-null   object \n",
      " 8   price           1703 non-null   float64\n",
      " 9   amount          1703 non-null   float64\n",
      " 10  id_store        1260 non-null   float64\n",
      "dtypes: float64(3), int64(2), object(6)\n",
      "memory usage: 146.5+ KB\n"
     ]
    }
   ],
   "source": [
    "# Общая информация о базе данных:\n",
    "shops.info()"
   ]
  },
  {
   "cell_type": "code",
   "execution_count": 9,
   "metadata": {},
   "outputs": [
    {
     "data": {
      "text/plain": [
       "(1703, 11)"
      ]
     },
     "execution_count": 9,
     "metadata": {},
     "output_type": "execute_result"
    }
   ],
   "source": [
    "shops.shape"
   ]
  },
  {
   "cell_type": "code",
   "execution_count": 10,
   "metadata": {},
   "outputs": [
    {
     "data": {
      "text/plain": [
       "id                  int64\n",
       "date               object\n",
       "shop               object\n",
       "gruppa             object\n",
       "name               object\n",
       "characteristic     object\n",
       "quantity            int64\n",
       "item               object\n",
       "price             float64\n",
       "amount            float64\n",
       "id_store          float64\n",
       "dtype: object"
      ]
     },
     "execution_count": 10,
     "metadata": {},
     "output_type": "execute_result"
    }
   ],
   "source": [
    "shops.dtypes"
   ]
  },
  {
   "cell_type": "code",
   "execution_count": null,
   "metadata": {},
   "outputs": [],
   "source": []
  },
  {
   "cell_type": "code",
   "execution_count": 11,
   "metadata": {},
   "outputs": [
    {
     "data": {
      "text/plain": [
       "'2021-10-20'"
      ]
     },
     "execution_count": 11,
     "metadata": {},
     "output_type": "execute_result"
    }
   ],
   "source": [
    "# Сегодняшняя дата:\n",
    "datetime.today().strftime('%Y-%m-%d')"
   ]
  },
  {
   "cell_type": "code",
   "execution_count": null,
   "metadata": {},
   "outputs": [],
   "source": []
  },
  {
   "cell_type": "code",
   "execution_count": 14,
   "metadata": {},
   "outputs": [
    {
     "name": "stdout",
     "output_type": "stream",
     "text": [
      "date and time: 20-10-2021 07:47:49\n"
     ]
    }
   ],
   "source": [
    "# Сегодняшнее время:\n",
    "# Date and time\n",
    "now = datetime.now()\n",
    "date_time = now.strftime(\"%d-%m-%Y %H:%M:%S\")\n",
    "print(\"date and time:\",date_time)"
   ]
  },
  {
   "cell_type": "code",
   "execution_count": null,
   "metadata": {},
   "outputs": [],
   "source": []
  },
  {
   "cell_type": "code",
   "execution_count": 15,
   "metadata": {},
   "outputs": [],
   "source": [
    "# Группировка данных по категориям И МАГАЗИНАМ --- Агрегация по покупкам (сумма покупок) --- Сортировка по убыванию  \n",
    "money_by_shop = shops \\\n",
    "    .groupby(['gruppa', 'shop'], as_index=False) \\\n",
    "    .aggregate({'amount': 'sum'}) \\\n",
    "    .sort_values('amount', ascending=False)"
   ]
  },
  {
   "cell_type": "code",
   "execution_count": 17,
   "metadata": {},
   "outputs": [
    {
     "data": {
      "text/html": [
       "<div>\n",
       "<style scoped>\n",
       "    .dataframe tbody tr th:only-of-type {\n",
       "        vertical-align: middle;\n",
       "    }\n",
       "\n",
       "    .dataframe tbody tr th {\n",
       "        vertical-align: top;\n",
       "    }\n",
       "\n",
       "    .dataframe thead th {\n",
       "        text-align: right;\n",
       "    }\n",
       "</style>\n",
       "<table border=\"1\" class=\"dataframe\">\n",
       "  <thead>\n",
       "    <tr style=\"text-align: right;\">\n",
       "      <th></th>\n",
       "      <th>gruppa</th>\n",
       "      <th>shop</th>\n",
       "      <th>amount</th>\n",
       "    </tr>\n",
       "  </thead>\n",
       "  <tbody>\n",
       "    <tr>\n",
       "      <th>24</th>\n",
       "      <td>Дерево</td>\n",
       "      <td>Пилорама</td>\n",
       "      <td>135044.00</td>\n",
       "    </tr>\n",
       "    <tr>\n",
       "      <th>78</th>\n",
       "      <td>Мебель</td>\n",
       "      <td>ИП Котенко</td>\n",
       "      <td>94130.00</td>\n",
       "    </tr>\n",
       "    <tr>\n",
       "      <th>208</th>\n",
       "      <td>Стройматериалы</td>\n",
       "      <td>СтройМир на Чиркова</td>\n",
       "      <td>73071.55</td>\n",
       "    </tr>\n",
       "    <tr>\n",
       "      <th>186</th>\n",
       "      <td>Сантехника</td>\n",
       "      <td>Юра</td>\n",
       "      <td>73000.00</td>\n",
       "    </tr>\n",
       "    <tr>\n",
       "      <th>202</th>\n",
       "      <td>Стройматериалы</td>\n",
       "      <td>Реал Маркет Котлас</td>\n",
       "      <td>65088.18</td>\n",
       "    </tr>\n",
       "    <tr>\n",
       "      <th>154</th>\n",
       "      <td>Сад</td>\n",
       "      <td>Сима-Ленд</td>\n",
       "      <td>48688.50</td>\n",
       "    </tr>\n",
       "    <tr>\n",
       "      <th>206</th>\n",
       "      <td>Стройматериалы</td>\n",
       "      <td>СтройБери</td>\n",
       "      <td>41349.40</td>\n",
       "    </tr>\n",
       "    <tr>\n",
       "      <th>193</th>\n",
       "      <td>Стройматериалы</td>\n",
       "      <td>Интерьер-Мебель</td>\n",
       "      <td>36867.70</td>\n",
       "    </tr>\n",
       "    <tr>\n",
       "      <th>3</th>\n",
       "      <td>Бытовая техника</td>\n",
       "      <td>ДНС Ритейл Коряжма</td>\n",
       "      <td>30998.00</td>\n",
       "    </tr>\n",
       "    <tr>\n",
       "      <th>212</th>\n",
       "      <td>Стройматериалы</td>\n",
       "      <td>Тёплый Дом В-Устюг</td>\n",
       "      <td>29400.00</td>\n",
       "    </tr>\n",
       "  </tbody>\n",
       "</table>\n",
       "</div>"
      ],
      "text/plain": [
       "              gruppa                 shop     amount\n",
       "24            Дерево             Пилорама  135044.00\n",
       "78            Мебель           ИП Котенко   94130.00\n",
       "208   Стройматериалы  СтройМир на Чиркова   73071.55\n",
       "186       Сантехника                  Юра   73000.00\n",
       "202   Стройматериалы   Реал Маркет Котлас   65088.18\n",
       "154              Сад            Сима-Ленд   48688.50\n",
       "206   Стройматериалы            СтройБери   41349.40\n",
       "193   Стройматериалы      Интерьер-Мебель   36867.70\n",
       "3    Бытовая техника   ДНС Ритейл Коряжма   30998.00\n",
       "212   Стройматериалы   Тёплый Дом В-Устюг   29400.00"
      ]
     },
     "execution_count": 17,
     "metadata": {},
     "output_type": "execute_result"
    }
   ],
   "source": [
    "money_by_shop.head(10)"
   ]
  },
  {
   "cell_type": "code",
   "execution_count": 18,
   "metadata": {},
   "outputs": [
    {
     "data": {
      "text/plain": [
       "(268, 3)"
      ]
     },
     "execution_count": 18,
     "metadata": {},
     "output_type": "execute_result"
    }
   ],
   "source": [
    "money_by_shop.shape"
   ]
  },
  {
   "cell_type": "code",
   "execution_count": null,
   "metadata": {},
   "outputs": [],
   "source": []
  },
  {
   "cell_type": "code",
   "execution_count": 19,
   "metadata": {},
   "outputs": [],
   "source": [
    "# Группировка данных по категориям И МАГАЗИНАМ --- Агрегация по покупкам (сумма покупок) --- Без сСортировки  \n",
    "money_by_shop_1 = shops \\\n",
    "    .groupby(['gruppa', 'shop'], as_index=False) \\\n",
    "    .aggregate({'amount': 'sum'})"
   ]
  },
  {
   "cell_type": "code",
   "execution_count": 20,
   "metadata": {},
   "outputs": [
    {
     "data": {
      "text/html": [
       "<div>\n",
       "<style scoped>\n",
       "    .dataframe tbody tr th:only-of-type {\n",
       "        vertical-align: middle;\n",
       "    }\n",
       "\n",
       "    .dataframe tbody tr th {\n",
       "        vertical-align: top;\n",
       "    }\n",
       "\n",
       "    .dataframe thead th {\n",
       "        text-align: right;\n",
       "    }\n",
       "</style>\n",
       "<table border=\"1\" class=\"dataframe\">\n",
       "  <thead>\n",
       "    <tr style=\"text-align: right;\">\n",
       "      <th></th>\n",
       "      <th>gruppa</th>\n",
       "      <th>shop</th>\n",
       "      <th>amount</th>\n",
       "    </tr>\n",
       "  </thead>\n",
       "  <tbody>\n",
       "    <tr>\n",
       "      <th>0</th>\n",
       "      <td>Бытовая техника</td>\n",
       "      <td>AliExpress</td>\n",
       "      <td>4455.0</td>\n",
       "    </tr>\n",
       "    <tr>\n",
       "      <th>1</th>\n",
       "      <td>Бытовая техника</td>\n",
       "      <td>ГазСервис</td>\n",
       "      <td>2000.0</td>\n",
       "    </tr>\n",
       "    <tr>\n",
       "      <th>2</th>\n",
       "      <td>Бытовая техника</td>\n",
       "      <td>ДНС Ритейл В-Устюг</td>\n",
       "      <td>6199.0</td>\n",
       "    </tr>\n",
       "    <tr>\n",
       "      <th>3</th>\n",
       "      <td>Бытовая техника</td>\n",
       "      <td>ДНС Ритейл Коряжма</td>\n",
       "      <td>30998.0</td>\n",
       "    </tr>\n",
       "    <tr>\n",
       "      <th>4</th>\n",
       "      <td>Бытовая техника</td>\n",
       "      <td>Комлайн</td>\n",
       "      <td>25600.0</td>\n",
       "    </tr>\n",
       "    <tr>\n",
       "      <th>5</th>\n",
       "      <td>Бытовая техника</td>\n",
       "      <td>Сима-Ленд</td>\n",
       "      <td>26292.0</td>\n",
       "    </tr>\n",
       "    <tr>\n",
       "      <th>6</th>\n",
       "      <td>Бытовая техника</td>\n",
       "      <td>Сияние</td>\n",
       "      <td>11597.1</td>\n",
       "    </tr>\n",
       "    <tr>\n",
       "      <th>7</th>\n",
       "      <td>Бытовая техника</td>\n",
       "      <td>УстюгГаз</td>\n",
       "      <td>25680.0</td>\n",
       "    </tr>\n",
       "    <tr>\n",
       "      <th>8</th>\n",
       "      <td>Ветряк</td>\n",
       "      <td>220-volt.ru</td>\n",
       "      <td>4150.0</td>\n",
       "    </tr>\n",
       "    <tr>\n",
       "      <th>9</th>\n",
       "      <td>Ветряк</td>\n",
       "      <td>АВИТО Котлас</td>\n",
       "      <td>5000.0</td>\n",
       "    </tr>\n",
       "  </tbody>\n",
       "</table>\n",
       "</div>"
      ],
      "text/plain": [
       "            gruppa                shop   amount\n",
       "0  Бытовая техника          AliExpress   4455.0\n",
       "1  Бытовая техника           ГазСервис   2000.0\n",
       "2  Бытовая техника  ДНС Ритейл В-Устюг   6199.0\n",
       "3  Бытовая техника  ДНС Ритейл Коряжма  30998.0\n",
       "4  Бытовая техника             Комлайн  25600.0\n",
       "5  Бытовая техника           Сима-Ленд  26292.0\n",
       "6  Бытовая техника              Сияние  11597.1\n",
       "7  Бытовая техника            УстюгГаз  25680.0\n",
       "8           Ветряк         220-volt.ru   4150.0\n",
       "9           Ветряк        АВИТО Котлас   5000.0"
      ]
     },
     "execution_count": 20,
     "metadata": {},
     "output_type": "execute_result"
    }
   ],
   "source": [
    "money_by_shop_1.head(10)"
   ]
  },
  {
   "cell_type": "code",
   "execution_count": null,
   "metadata": {},
   "outputs": [],
   "source": []
  }
 ],
 "metadata": {
  "kernelspec": {
   "display_name": "Python 3",
   "language": "python",
   "name": "python3"
  },
  "language_info": {
   "codemirror_mode": {
    "name": "ipython",
    "version": 3
   },
   "file_extension": ".py",
   "mimetype": "text/x-python",
   "name": "python",
   "nbconvert_exporter": "python",
   "pygments_lexer": "ipython3",
   "version": "3.8.3"
  }
 },
 "nbformat": 4,
 "nbformat_minor": 4
}
